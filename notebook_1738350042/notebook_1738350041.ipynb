{
 "cells": [
  {
   "cell_type": "markdown",
   "id": "14400f41",
   "metadata": {},
   "source": [
    "# AI Generated Notebook\n",
    "Generated on: 2025-02-01 00:30:41\n",
    "\n",
    "## Prompt\n",
    "star pyramid in python\n",
    "\n",
    "## Description\n",
    "This notebook was automatically generated using AI based on the provided prompt.\n"
   ]
  },
  {
   "cell_type": "code",
   "execution_count": null,
   "id": "5f71e62f",
   "metadata": {},
   "outputs": [],
   "source": [
    "```python\n",
    "def star_pyramid(rows):\n",
    "    for i in range(rows):\n",
    "        print(\" \" * (rows - i - 1) + \"*\" * (2 * i + 1))\n",
    "\n",
    "if __name__ == '__main__':\n",
    "    rows = 5\n",
    "    star_pyramid(rows)\n",
    "```\n"
   ]
  }
 ],
 "metadata": {
  "colab": {}
 },
 "nbformat": 4,
 "nbformat_minor": 5
}