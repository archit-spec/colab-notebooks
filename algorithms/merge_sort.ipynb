{
 "cells": [
  {
   "cell_type": "markdown",
   "id": "e9c5746a",
   "metadata": {},
   "source": [
    "This notebook implements the merge sort algorithm."
   ]
  },
  {
   "cell_type": "code",
   "execution_count": null,
   "id": "68e15c0f",
   "metadata": {},
   "outputs": [],
   "source": [
    "def merge_sort(arr):\n",
    "    if len(arr) <= 1:\n",
    "        return arr\n",
    "\n",
    "    mid = len(arr) // 2\n",
    "    left_half = arr[:mid]\n",
    "    right_half = arr[mid:]\n",
    "\n",
    "    left_half = merge_sort(left_half)\n",
    "    right_half = merge_sort(right_half)\n",
    "\n",
    "    return merge(left_half, right_half)\n",
    "\n",
    "def merge(left, right):\n",
    "    merged = []\n",
    "    left_index = 0\n",
    "    right_index = 0\n",
    "\n",
    "    while left_index < len(left) and right_index < len(right):\n",
    "        if left[left_index] <= right[right_index]:\n",
    "            merged.append(left[left_index])\n",
    "            left_index += 1\n",
    "        else:\n",
    "            merged.append(right[right_index])\n",
    "            right_index += 1\n",
    "\n",
    "    merged.extend(left[left_index:])\n",
    "    merged.extend(right[right_index:])\n",
    "    return merged"
   ]
  }
 ],
 "metadata": {
  "colab": {}
 },
 "nbformat": 4,
 "nbformat_minor": 5
}