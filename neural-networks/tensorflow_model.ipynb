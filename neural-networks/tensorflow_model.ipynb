{
 "cells": [
  {
   "cell_type": "markdown",
   "id": "141eccb2",
   "metadata": {},
   "source": [
    "A simple neural network using TensorFlow"
   ]
  },
  {
   "cell_type": "code",
   "execution_count": null,
   "id": "1b25685d",
   "metadata": {},
   "outputs": [],
   "source": [
    "import tensorflow as tf\n",
    "\n",
    "# Define the model\n",
    "model = tf.keras.models.Sequential([\n",
    "  tf.keras.layers.Dense(128, activation='relu'),\n",
    "  tf.keras.layers.Dense(10, activation='softmax')\n",
    "])\n",
    "\n",
    "# Compile the model\n",
    "model.compile(optimizer='adam',\n",
    "              loss='sparse_categorical_crossentropy',\n",
    "              metrics=['accuracy'])\n",
    "\n",
    "# Generate dummy data\n",
    "import numpy as np\n",
    "data = np.random.rand(1000, 784)\n",
    "labels = np.random.randint(0, 10, 1000)\n",
    "\n",
    "# Train the model\n",
    "model.fit(data, labels, epochs=10)"
   ]
  }
 ],
 "metadata": {
  "colab": {}
 },
 "nbformat": 4,
 "nbformat_minor": 5
}