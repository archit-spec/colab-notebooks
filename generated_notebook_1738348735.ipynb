{
 "cells": [
  {
   "cell_type": "markdown",
   "id": "d60c7f21",
   "metadata": {},
   "source": [
    "# New Notebook\n",
    "Welcome to your new notebook! \n",
    "\n",
    "This notebook was generated automatically. You can:\n",
    "- Add code cells\n",
    "- Add markdown cells\n",
    "- Run your code\n",
    "- Save and share your work\n"
   ]
  },
  {
   "cell_type": "code",
   "execution_count": null,
   "id": "a012cf9e",
   "metadata": {},
   "outputs": [],
   "source": [
    "# Example code cell\n",
    "import pandas as pd\n",
    "import numpy as np\n",
    "import matplotlib.pyplot as plt\n",
    "\n",
    "# Create some sample data\n",
    "data = np.random.randn(100, 2)\n",
    "df = pd.DataFrame(data, columns=['A', 'B'])\n",
    "\n",
    "# Create a scatter plot\n",
    "plt.scatter(df['A'], df['B'])\n",
    "plt.title('Sample Scatter Plot')\n",
    "plt.xlabel('A')\n",
    "plt.ylabel('B')\n",
    "plt.show()\n"
   ]
  }
 ],
 "metadata": {
  "colab": {}
 },
 "nbformat": 4,
 "nbformat_minor": 5
}