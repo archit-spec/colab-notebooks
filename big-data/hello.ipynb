{
 "cells": [
  {
   "cell_type": "markdown",
   "id": "7fa635b8",
   "metadata": {},
   "source": [
    "Simple notebook to print hello"
   ]
  },
  {
   "cell_type": "code",
   "execution_count": null,
   "id": "64ac9008",
   "metadata": {},
   "outputs": [],
   "source": [
    "print(\"Hello Big Data\")"
   ]
  }
 ],
 "metadata": {
  "colab": {}
 },
 "nbformat": 4,
 "nbformat_minor": 5
}