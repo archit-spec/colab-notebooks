{
 "cells": [
  {
   "cell_type": "code",
   "execution_count": null,
   "id": "261de6df",
   "metadata": {},
   "outputs": [],
   "source": [
    "```python\n",
    "def star_pyramid(rows):\n",
    "    for i in range(rows):\n",
    "        print(\" \" * (rows - i - 1) + \"*\" * (2 * i + 1))\n",
    "\n",
    "star_pyramid(5)\n",
    "```\n"
   ]
  }
 ],
 "metadata": {
  "colab": {}
 },
 "nbformat": 4,
 "nbformat_minor": 5
}