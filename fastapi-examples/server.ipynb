{
 "cells": [
  {
   "cell_type": "markdown",
   "id": "1761860f",
   "metadata": {},
   "source": [
    "A basic FastAPI server example."
   ]
  },
  {
   "cell_type": "code",
   "execution_count": null,
   "id": "20915a4e",
   "metadata": {},
   "outputs": [],
   "source": [
    "from fastapi import FastAPI\n",
    "\n",
    "app = FastAPI()\n",
    "\n",
    "@app.get(\"/\")\n",
    "def read_root():\n",
    "    return {\"Hello\": \"World\"}"
   ]
  }
 ],
 "metadata": {
  "colab": {}
 },
 "nbformat": 4,
 "nbformat_minor": 5
}